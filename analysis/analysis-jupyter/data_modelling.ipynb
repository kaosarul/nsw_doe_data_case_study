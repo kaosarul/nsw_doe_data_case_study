{
 "cells": [
  {
   "cell_type": "markdown",
   "metadata": {},
   "source": [
    "#### Data Cleaning"
   ]
  },
  {
   "cell_type": "code",
   "execution_count": null,
   "metadata": {},
   "outputs": [],
   "source": [
    "import pandas as pd\n",
    "import duckdb\n",
    "from ydata_profiling import ProfileReport"
   ]
  },
  {
   "cell_type": "code",
   "execution_count": null,
   "metadata": {},
   "outputs": [],
   "source": [
    "db_path = '../../database/nsw_doe_data_case_study.duckdb'\n",
    "con = duckdb.connect(db_path)\n",
    "con.execute(\"CREATE TABLE student_attendance_data AS SELECT * FROM read_csv_auto('../../data/attendance_data.csv');\")\n",
    "con.commit()\n",
    "# Close the connection.\n",
    "con.close()"
   ]
  },
  {
   "cell_type": "code",
   "execution_count": null,
   "metadata": {},
   "outputs": [],
   "source": [
    "con = duckdb.connect('../../database/nsw_doe_data_case_study.duckdb',read_only=True)\n",
    "results = con.execute(\"SELECT * FROM multi_age_composite_dataset LIMIT 10\").fetchall()\n",
    "print(results)\n",
    "con.close()"
   ]
  },
  {
   "cell_type": "code",
   "execution_count": null,
   "metadata": {},
   "outputs": [],
   "source": [
    "con = duckdb.connect('../../database/nsw_doe_data_case_study.duckdb',read_only=True)\n",
    "table_list = con.execute(\"SHOW TABLES\").fetchall()\n",
    "print(table_list)\n",
    "con.close()"
   ]
  },
  {
   "cell_type": "code",
   "execution_count": null,
   "metadata": {},
   "outputs": [],
   "source": [
    "# Connect to database\n",
    "con = duckdb.connect('../../database/nsw_doe_data_case_study.duckdb',read_only=True)\n",
    "# Rename columns\n",
    "con.execute('ALTER TABLE multi_age_composite_dataset RENAME COLUMN \"School code\" TO School_code')\n",
    "con.execute('ALTER TABLE multi_age_composite_dataset RENAME COLUMN \"School Name\" TO School_Name')\n",
    "years = ['14', '15', '16', '17', '18', '19', '21', '22']\n",
    "measures = ['COMPOSITE_CLASS_COUNT', 'COMPOSITE_CLASS_STUDENTS', 'PCT_COMPOSITE_CLASSES', 'PCT_COMPOSITE_CLASS_STUDENTS']\n",
    "sql_statements = []\n",
    "for measure in measures:\n",
    "    for year in years:\n",
    "        sql = f\"\"\"\n",
    "        SELECT \n",
    "            School_code,\n",
    "            School_Name,\n",
    "            '{measure}' AS Measure,\n",
    "            '20{year}' AS Year,\n",
    "            {measure}_{year} AS value\n",
    "        FROM multi_age_composite_dataset\n",
    "        \"\"\"\n",
    "        sql_statements.append(sql)\n",
    "final_query = \"\\nUNION ALL\\n\".join(sql_statements)\n",
    "con.execute(f\"CREATE TABLE unpivoted_data AS {final_query}\")"
   ]
  },
  {
   "cell_type": "code",
   "execution_count": null,
   "metadata": {},
   "outputs": [],
   "source": [
    "import duckdb\n",
    "con = duckdb.connect('../../database/nsw_doe_data_case_study.duckdb')\n",
    "columns = con.execute(\"PRAGMA table_info(student_attendance_dataset)\").fetchall()\n",
    "year_columns = [str(row[1]) for row in columns if row[1].isdigit()]\n",
    "sql_parts = []\n",
    "for year in year_columns:\n",
    "    sql_part = f\"\"\"\n",
    "    SELECT \n",
    "        school_code AS School_Code,\n",
    "        school_name AS School_Name,\n",
    "        '{year}' AS Year,\n",
    "        \"{year}\" AS Attendance_pct\n",
    "    FROM student_attendance_dataset\n",
    "    \"\"\"\n",
    "    sql_parts.append(sql_part)\n",
    "sql_command = \"\\nUNION ALL\\n\".join(sql_parts)\n",
    "con.execute(f\"CREATE TABLE student_attendance_unpivoted AS {sql_command}\")\n",
    "con.close()"
   ]
  },
  {
   "cell_type": "code",
   "execution_count": null,
   "metadata": {},
   "outputs": [],
   "source": [
    "# Establish a connection\n",
    "con = duckdb.connect('../../database/nsw_doe_data_case_study.duckdb', read_only=False)\n",
    "query = \"\"\"\n",
    "ALTER TABLE unpivoted_dataset RENAME TO multi_age_composite_unpivoted;\n",
    "\"\"\"\n",
    "con.execute(query)\n",
    "# Close the connection\n",
    "con.close()"
   ]
  },
  {
   "cell_type": "code",
   "execution_count": null,
   "metadata": {},
   "outputs": [],
   "source": [
    "con = duckdb.connect('../../database/nsw_doe_data_case_study.duckdb',read_only=False)\n",
    "df = con.sql('select * from multi_age_composite_unpivoted').df()\n",
    "print(df.shape)\n",
    "df.head()\n"
   ]
  },
  {
   "cell_type": "code",
   "execution_count": 1,
   "metadata": {},
   "outputs": [
    {
     "ename": "NameError",
     "evalue": "name 'con' is not defined",
     "output_type": "error",
     "traceback": [
      "\u001b[0;31m---------------------------------------------------------------------------\u001b[0m",
      "\u001b[0;31mNameError\u001b[0m                                 Traceback (most recent call last)",
      "Cell \u001b[0;32mIn[1], line 1\u001b[0m\n\u001b[0;32m----> 1\u001b[0m con\u001b[39m.\u001b[39mclose()\n",
      "\u001b[0;31mNameError\u001b[0m: name 'con' is not defined"
     ]
    }
   ],
   "source": [
    "con.close()"
   ]
  },
  {
   "cell_type": "code",
   "execution_count": null,
   "metadata": {},
   "outputs": [],
   "source": [
    "query = \"SELECT * FROM public_school_nsw_master_dataset\"\n",
    "df = con.execute(query).fetchdf()  # Use fetchdf() to get a DataFrame\n",
    "# Save the DataFrame to Excel\n",
    "excel_path = \"public_school_nsw_master_dataset.xlsx\"\n",
    "df.to_excel(excel_path, index=False, engine='openpyxl')"
   ]
  }
 ],
 "metadata": {
  "kernelspec": {
   "display_name": "Python 3",
   "language": "python",
   "name": "python3"
  },
  "language_info": {
   "codemirror_mode": {
    "name": "ipython",
    "version": 3
   },
   "file_extension": ".py",
   "mimetype": "text/x-python",
   "name": "python",
   "nbconvert_exporter": "python",
   "pygments_lexer": "ipython3",
   "version": "3.11.4"
  },
  "orig_nbformat": 4
 },
 "nbformat": 4,
 "nbformat_minor": 2
}
