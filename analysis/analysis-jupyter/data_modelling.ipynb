{
 "cells": [
  {
   "cell_type": "markdown",
   "metadata": {},
   "source": [
    "#### Data Modelling"
   ]
  },
  {
   "cell_type": "code",
   "execution_count": null,
   "metadata": {},
   "outputs": [],
   "source": [
    "import pandas as pd\n",
    "import duckdb\n",
    "from ydata_profiling import ProfileReport"
   ]
  },
  {
   "cell_type": "code",
   "execution_count": null,
   "metadata": {},
   "outputs": [],
   "source": [
    "import duckdb\n",
    "db_path = '../../database/nsw_doe_data_case_study.duckdb'\n",
    "con = duckdb.connect(db_path)\n",
    "con.execute(\"CREATE TABLE student_attendance_data AS SELECT * FROM read_csv_auto('../../data/attendance_data.csv');\")\n",
    "con.commit()\n",
    "# Close the connection.\n",
    "con.close()"
   ]
  },
  {
   "cell_type": "code",
   "execution_count": null,
   "metadata": {},
   "outputs": [],
   "source": [
    "con = duckdb.connect('../../database/nsw_doe_data_case_study.duckdb',read_only=True)\n",
    "results = con.execute(\"SELECT * FROM multi_age_composite_dataset LIMIT 10\").fetchall()\n",
    "print(results)"
   ]
  },
  {
   "cell_type": "code",
   "execution_count": 17,
   "metadata": {},
   "outputs": [
    {
     "name": "stdout",
     "output_type": "stream",
     "text": [
      "[('multi_age_composite_dataset',), ('public_school_nsw_master_dataset',), ('student_attendance_data',), ('unpivoted_dataset',)]\n"
     ]
    }
   ],
   "source": [
    "table_list = con.execute(\"SHOW TABLES\").fetchall()\n",
    "print(table_list)\n",
    "con.close()"
   ]
  },
  {
   "cell_type": "code",
   "execution_count": 16,
   "metadata": {},
   "outputs": [
    {
     "data": {
      "text/plain": [
       "<duckdb.DuckDBPyConnection at 0x7f830a6057b0>"
      ]
     },
     "execution_count": 16,
     "metadata": {},
     "output_type": "execute_result"
    }
   ],
   "source": [
    "import duckdb\n",
    "# Connect to your specific database\n",
    "con = duckdb.connect('../../database/nsw_doe_data_case_study.duckdb', read_only=False)\n",
    "# Rename columns\n",
    "con.execute('ALTER TABLE multi_age_composite_dataset RENAME COLUMN \"School code\" TO School_code')\n",
    "con.execute('ALTER TABLE multi_age_composite_dataset RENAME COLUMN \"School Name\" TO School_Name')\n",
    "years = ['14', '15', '16', '17', '18', '19', '21', '22']\n",
    "measures = ['COMPOSITE_CLASS_COUNT', 'COMPOSITE_CLASS_STUDENTS', 'PCT_COMPOSITE_CLASSES', 'PCT_COMPOSITE_CLASS_STUDENTS']\n",
    "sql_statements = []\n",
    "for measure in measures:\n",
    "    for year in years:\n",
    "        sql = f\"\"\"\n",
    "        SELECT \n",
    "            School_code,\n",
    "            School_Name,\n",
    "            '{measure}' AS Measure,\n",
    "            '20{year}' AS Year,\n",
    "            {measure}_{year} AS value\n",
    "        FROM multi_age_composite_dataset\n",
    "        \"\"\"\n",
    "        sql_statements.append(sql)\n",
    "final_query = \"\\nUNION ALL\\n\".join(sql_statements)\n",
    "con.execute(f\"CREATE TABLE unpivoted_dataset AS {final_query}\")"
   ]
  },
  {
   "cell_type": "code",
   "execution_count": 20,
   "metadata": {},
   "outputs": [
    {
     "name": "stdout",
     "output_type": "stream",
     "text": [
      "(54496, 5)\n"
     ]
    },
    {
     "data": {
      "text/html": [
       "<div>\n",
       "<style scoped>\n",
       "    .dataframe tbody tr th:only-of-type {\n",
       "        vertical-align: middle;\n",
       "    }\n",
       "\n",
       "    .dataframe tbody tr th {\n",
       "        vertical-align: top;\n",
       "    }\n",
       "\n",
       "    .dataframe thead th {\n",
       "        text-align: right;\n",
       "    }\n",
       "</style>\n",
       "<table border=\"1\" class=\"dataframe\">\n",
       "  <thead>\n",
       "    <tr style=\"text-align: right;\">\n",
       "      <th></th>\n",
       "      <th>School_code</th>\n",
       "      <th>School_Name</th>\n",
       "      <th>Measure</th>\n",
       "      <th>Year</th>\n",
       "      <th>value</th>\n",
       "    </tr>\n",
       "  </thead>\n",
       "  <tbody>\n",
       "    <tr>\n",
       "      <th>0</th>\n",
       "      <td>1001</td>\n",
       "      <td>Abbotsford Public School</td>\n",
       "      <td>COMPOSITE_CLASS_COUNT</td>\n",
       "      <td>2014</td>\n",
       "      <td>11</td>\n",
       "    </tr>\n",
       "    <tr>\n",
       "      <th>1</th>\n",
       "      <td>1002</td>\n",
       "      <td>Aberdeen Public School</td>\n",
       "      <td>COMPOSITE_CLASS_COUNT</td>\n",
       "      <td>2014</td>\n",
       "      <td>1</td>\n",
       "    </tr>\n",
       "    <tr>\n",
       "      <th>2</th>\n",
       "      <td>1003</td>\n",
       "      <td>Abermain Public School</td>\n",
       "      <td>COMPOSITE_CLASS_COUNT</td>\n",
       "      <td>2014</td>\n",
       "      <td>8</td>\n",
       "    </tr>\n",
       "    <tr>\n",
       "      <th>3</th>\n",
       "      <td>1007</td>\n",
       "      <td>Adaminaby Public School</td>\n",
       "      <td>COMPOSITE_CLASS_COUNT</td>\n",
       "      <td>2014</td>\n",
       "      <td>1</td>\n",
       "    </tr>\n",
       "    <tr>\n",
       "      <th>4</th>\n",
       "      <td>1008</td>\n",
       "      <td>Adamstown Public School</td>\n",
       "      <td>COMPOSITE_CLASS_COUNT</td>\n",
       "      <td>2014</td>\n",
       "      <td>5</td>\n",
       "    </tr>\n",
       "  </tbody>\n",
       "</table>\n",
       "</div>"
      ],
      "text/plain": [
       "   School_code               School_Name                Measure  Year value\n",
       "0         1001  Abbotsford Public School  COMPOSITE_CLASS_COUNT  2014    11\n",
       "1         1002    Aberdeen Public School  COMPOSITE_CLASS_COUNT  2014     1\n",
       "2         1003    Abermain Public School  COMPOSITE_CLASS_COUNT  2014     8\n",
       "3         1007   Adaminaby Public School  COMPOSITE_CLASS_COUNT  2014     1\n",
       "4         1008   Adamstown Public School  COMPOSITE_CLASS_COUNT  2014     5"
      ]
     },
     "execution_count": 20,
     "metadata": {},
     "output_type": "execute_result"
    }
   ],
   "source": [
    "con = duckdb.connect('../../database/nsw_doe_data_case_study.duckdb',read_only=True)\n",
    "df = con.sql('select * from unpivoted_dataset').df()\n",
    "print(df.shape)\n",
    "df.head()"
   ]
  },
  {
   "cell_type": "code",
   "execution_count": null,
   "metadata": {},
   "outputs": [],
   "source": []
  }
 ],
 "metadata": {
  "kernelspec": {
   "display_name": "Python 3",
   "language": "python",
   "name": "python3"
  },
  "language_info": {
   "codemirror_mode": {
    "name": "ipython",
    "version": 3
   },
   "file_extension": ".py",
   "mimetype": "text/x-python",
   "name": "python",
   "nbconvert_exporter": "python",
   "pygments_lexer": "ipython3",
   "version": "3.11.4"
  },
  "orig_nbformat": 4
 },
 "nbformat": 4,
 "nbformat_minor": 2
}
