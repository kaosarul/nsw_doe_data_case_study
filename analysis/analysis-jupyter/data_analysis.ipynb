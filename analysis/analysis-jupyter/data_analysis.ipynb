{
 "cells": [
  {
   "attachments": {},
   "cell_type": "markdown",
   "metadata": {},
   "source": [
    "# New South Wales Department of Education (NSW DOE) - Data Case Study \n",
    "## Data Analysis"
   ]
  },
  {
   "cell_type": "code",
   "execution_count": null,
   "metadata": {},
   "outputs": [],
   "source": [
    "import pandas as pd\n",
    "import duckdb\n",
    "from ydata_profiling import ProfileReport\n",
    "import matplotlib.pyplot as plt\n",
    "import seaborn as sns"
   ]
  },
  {
   "attachments": {},
   "cell_type": "markdown",
   "metadata": {},
   "source": [
    "### connect to the database"
   ]
  },
  {
   "cell_type": "code",
   "execution_count": null,
   "metadata": {},
   "outputs": [],
   "source": [
    "con = duckdb.connect('../../database/nsw_doe_data_case_study.duckdb',read_only=False)"
   ]
  },
  {
   "attachments": {},
   "cell_type": "markdown",
   "metadata": {},
   "source": [
    "#### Exploratory Data Analysis:"
   ]
  },
  {
   "cell_type": "code",
   "execution_count": null,
   "metadata": {},
   "outputs": [],
   "source": [
    "df = con.sql('select * from multi_age_composite_unp').df()"
   ]
  },
  {
   "cell_type": "code",
   "execution_count": null,
   "metadata": {},
   "outputs": [],
   "source": [
    "print(df.shape)\n",
    "df.head()"
   ]
  },
  {
   "cell_type": "code",
   "execution_count": null,
   "metadata": {},
   "outputs": [],
   "source": [
    "df = con.sql('select * from public_school_nsw_master_dataset').df()\n",
    "profile_public_school_nsw_master_dataset = ProfileReport(df, title=\"Public School NSW Data Profiling Report\")\n",
    "profile_public_school_nsw_master_dataset.to_file(\"profile_public_school_nsw_master_dataset.html\")\n",
    "profile_public_school_nsw_master_dataset"
   ]
  },
  {
   "cell_type": "code",
   "execution_count": null,
   "metadata": {},
   "outputs": [],
   "source": [
    "df = con.sql('select * from multi_age_composite_unpivoted').df()\n",
    "profile_multi_age_composite_unpivoted = ProfileReport(df, title=\"Multi Age Composite Profiling Report\")\n",
    "profile_multi_age_composite_unpivoted.to_file(\"profile_multi_age_composite_unpivoted.html\")\n",
    "profile_multi_age_composite_unpivoted"
   ]
  },
  {
   "cell_type": "code",
   "execution_count": null,
   "metadata": {},
   "outputs": [],
   "source": [
    "df = con.sql('select * from student_attendance_dataset').df()\n",
    "profile_student_attendance_dataset = ProfileReport(df, title=\"Student Attendance Profiling Report\")\n",
    "profile_student_attendance_dataset.to_file(\"profile_student_attendance_dataset.html\")\n",
    "profile_student_attendance_dataset"
   ]
  },
  {
   "cell_type": "code",
   "execution_count": null,
   "metadata": {},
   "outputs": [],
   "source": [
    "# Retrieving the data from views into pandas DataFrames\n",
    "school_master_data = pd.read_sql(\"SELECT * FROM school_master_data\", con)\n",
    "school_attendance_data = pd.read_sql(\"SELECT * FROM school_attendance_data\", con)\n",
    "school_composite_data = pd.read_sql(\"SELECT * FROM school_composite_data\", con)\n",
    "school_characteristics = pd.read_sql(\"SELECT * FROM school_characteristics\", con)\n",
    "print(\"Attendance Data Summary:\")\n",
    "print(school_attendance_data['Attendance_pct'].describe())\n",
    "print(\"\\nComposite Class Counts Summary:\")\n",
    "print(school_composite_data['Composite_Value'].describe())\n",
    "print(\"\\nCharacteristics Summary:\")\n",
    "print(school_characteristics[['latest_year_enrolment_FTE', 'Indigenous_pct', 'LBOTE_pct']].describe())"
   ]
  },
  {
   "cell_type": "code",
   "execution_count": null,
   "metadata": {},
   "outputs": [],
   "source": [
    "# Histogram for Attendance Rates\n",
    "sns.histplot(school_attendance_data['Attendance_pct'], kde=True)\n",
    "plt.title(\"Distribution of Attendance Rates\")\n",
    "plt.show()\n",
    "# Histogram for Composite Class Counts\n",
    "sns.histplot(school_composite_data['Composite_Value'], kde=True)\n",
    "plt.title(\"Distribution of Composite Class Counts\")\n",
    "plt.show()\n"
   ]
  },
  {
   "cell_type": "code",
   "execution_count": null,
   "metadata": {},
   "outputs": [],
   "source": [
    "#merged_data = pd.merge(school_attendance_data, school_composite_data, on=['School_Code', 'Year'], how='inner')\n",
    "# Rename the column in school_composite_data before merging\n",
    "merged_data = pd.merge(school_attendance_data, \n",
    "                       school_composite_data.rename(columns={\"School_code\": \"School_Code\"}), \n",
    "                       on=['School_Code', 'Year'], \n",
    "                       how='inner')\n",
    "\n",
    "# Average attendance rates over years\n",
    "average_attendance_per_year = merged_data.groupby('Year')['Attendance_pct'].mean()\n",
    "average_attendance_per_year.plot()\n",
    "plt.title(\"Average Attendance Rate Over Years\")\n",
    "plt.ylabel(\"Attendance Rate\")\n",
    "plt.show()\n",
    "\n",
    "# Average composite class counts over years\n",
    "average_composite_per_year = merged_data.groupby('Year')['Composite_Value'].mean()\n",
    "average_composite_per_year.plot()\n",
    "plt.title(\"Average Composite Class Counts Over Years\")\n",
    "plt.ylabel(\"Composite Counts\")\n",
    "plt.show()\n"
   ]
  },
  {
   "cell_type": "code",
   "execution_count": null,
   "metadata": {},
   "outputs": [],
   "source": [
    "# Define constants\n",
    "years = ['14', '15', '16', '17', '18', '19', '21', '22']\n",
    "measures = ['COMPOSITE_CLASS_COUNT', 'COMPOSITE_CLASS_STUDENTS', 'PCT_COMPOSITE_CLASSES', 'PCT_COMPOSITE_CLASS_STUDENTS']\n",
    "# Flatten the table\n",
    "flattened_queries = []\n",
    "for year in years:\n",
    "    year_cols = [f\"{measure}_{year} AS {measure}\" for measure in measures]\n",
    "    query = f\"\"\"\n",
    "    SELECT \n",
    "        School_code,\n",
    "        School_Name,\n",
    "        '20{year}' AS Year,\n",
    "        {', '.join(year_cols)}\n",
    "    FROM multi_age_composite_dataset\n",
    "    \"\"\"\n",
    "    flattened_queries.append(query)\n",
    "final_flattened_query = \"\\nUNION ALL\\n\".join(flattened_queries)\n",
    "con.execute(f\"CREATE TABLE multi_age_composite_unp AS {final_flattened_query}\")\n"
   ]
  },
  {
   "attachments": {},
   "cell_type": "markdown",
   "metadata": {},
   "source": [
    "### Action: Do your analysis below"
   ]
  },
  {
   "cell_type": "code",
   "execution_count": null,
   "metadata": {},
   "outputs": [],
   "source": [
    "print(merged_data.dtypes)"
   ]
  },
  {
   "attachments": {},
   "cell_type": "markdown",
   "metadata": {},
   "source": []
  }
 ],
 "metadata": {
  "kernelspec": {
   "display_name": "Python 3",
   "language": "python",
   "name": "python3"
  },
  "language_info": {
   "codemirror_mode": {
    "name": "ipython",
    "version": 3
   },
   "file_extension": ".py",
   "mimetype": "text/x-python",
   "name": "python",
   "nbconvert_exporter": "python",
   "pygments_lexer": "ipython3",
   "version": "3.11.4"
  },
  "orig_nbformat": 4
 },
 "nbformat": 4,
 "nbformat_minor": 2
}
